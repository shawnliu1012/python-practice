{
  "nbformat": 4,
  "nbformat_minor": 0,
  "metadata": {
    "colab": {
      "provenance": [],
      "collapsed_sections": [],
      "include_colab_link": true
    },
    "kernelspec": {
      "name": "python3",
      "display_name": "Python 3"
    },
    "language_info": {
      "name": "python"
    }
  },
  "cells": [
    {
      "cell_type": "markdown",
      "metadata": {
        "id": "view-in-github",
        "colab_type": "text"
      },
      "source": [
        "<a href=\"https://colab.research.google.com/github/shawnliu1012/python-practice/blob/main/unit1_2022_10_21.ipynb\" target=\"_parent\"><img src=\"https://colab.research.google.com/assets/colab-badge.svg\" alt=\"Open In Colab\"/></a>"
      ]
    },
    {
      "cell_type": "markdown",
      "source": [
        "# Q1:請在唐詩三百首認選其中一首詩，請用 print()逐行打印出來。\n",
        "\n"
      ],
      "metadata": {
        "id": "-fuSwotkIvUN"
      }
    },
    {
      "cell_type": "code",
      "execution_count": null,
      "metadata": {
        "colab": {
          "base_uri": "https://localhost:8080/"
        },
        "id": "Hrx30LlLvq4A",
        "outputId": "39904389-432f-4249-f472-a63ff6e1626b"
      },
      "outputs": [
        {
          "output_type": "stream",
          "name": "stdout",
          "text": [
            "秦時明月漢時關\n",
            "萬里長征人未還\n",
            "但使龍城飛將在\n",
            "不教胡馬度陰山\n"
          ]
        }
      ],
      "source": [
        "print(\"秦時明月漢時關\")\n",
        "print(\"萬里長征人未還\")\n",
        "print(\"但使龍城飛將在\")\n",
        "print(\"不教胡馬度陰山\")\n"
      ]
    },
    {
      "cell_type": "markdown",
      "source": [
        "# Q2:請打印下列每一行英文句子"
      ],
      "metadata": {
        "id": "XoY6yXA18zLI"
      }
    },
    {
      "cell_type": "code",
      "source": [
        "print(\"Day1 - Python Print Function\")\n",
        "print(\"The function is declared like this:\")\n",
        "print(\"print('what to print')\")"
      ],
      "metadata": {
        "colab": {
          "base_uri": "https://localhost:8080/"
        },
        "id": "pUZiIL048439",
        "outputId": "e27417f1-b93b-4872-a63d-de4e0cfd92f3"
      },
      "execution_count": 1,
      "outputs": [
        {
          "output_type": "stream",
          "name": "stdout",
          "text": [
            "Day1 - Python Print Function\n",
            "The function is declared like this:\n",
            "print('what to print')\n"
          ]
        }
      ]
    },
    {
      "cell_type": "markdown",
      "source": [
        "# Q3:請藉由 Ascii Art 列印 景丰公司 英文 Logo 「SIMENVI」\n",
        "[ASCII ART](https://ascii.co.uk/art)"
      ],
      "metadata": {
        "id": "QYkij4yl9Ayu"
      }
    },
    {
      "cell_type": "code",
      "source": [
        "Logo =  '''\n",
        " #####    ######  ##   ##  #######  ##   ##  ##   ##   ######\n",
        "##   ##     ##    ### ###   ##      ###  ##  ##   ##     ##\n",
        "##          ##    #######   ##      #### ##  ##   ##     ##\n",
        " #####      ##    ## # ##   ####    ## ####  ##   ##     ##\n",
        "     ##     ##    ##   ##   ##      ##  ###  ##   ##     ##\n",
        "##   ##     ##    ##   ##   ##      ##   ##   ## ##      ##\n",
        " #####    ######  ##   ##  #######  ##   ##    ###     ######\n",
        "'''\n",
        "print(Logo)"
      ],
      "metadata": {
        "colab": {
          "base_uri": "https://localhost:8080/"
        },
        "id": "VaM_BMVJ9MtO",
        "outputId": "9d1c6dcc-61b1-43d5-80e3-59a442ae89cb"
      },
      "execution_count": 2,
      "outputs": [
        {
          "output_type": "stream",
          "name": "stdout",
          "text": [
            "\n",
            " #####    ######  ##   ##  #######  ##   ##  ##   ##   ######\n",
            "##   ##     ##    ### ###   ##      ###  ##  ##   ##     ##\n",
            "##          ##    #######   ##      #### ##  ##   ##     ##\n",
            " #####      ##    ## # ##   ####    ## ####  ##   ##     ##\n",
            "     ##     ##    ##   ##   ##      ##  ###  ##   ##     ##\n",
            "##   ##     ##    ##   ##   ##      ##   ##   ## ##      ##\n",
            " #####    ######  ##   ##  #######  ##   ##    ###     ######\n",
            "\n"
          ]
        }
      ]
    },
    {
      "cell_type": "markdown",
      "source": [
        "# Q4:請用 print() 有 F-string格式，列印下敘述：\n",
        "＂我的名字叫做 XXX, 年齡為 yy 歲!＂，其中：\n",
        " 名字變數 name 為字串形態，年齡變數 age 為整數形態"
      ],
      "metadata": {
        "id": "w7XirWtK9rdq"
      }
    },
    {
      "cell_type": "code",
      "source": [
        "Name = str(\"劉一璇\")\n",
        "Age = int(29)\n",
        "print(f\"我的名字叫做{Name}, 年齡為{Age}歲!\")\n",
        "print(type(Name))\n",
        "print(type(Age))"
      ],
      "metadata": {
        "id": "GlibOl5f91t7"
      },
      "execution_count": null,
      "outputs": []
    }
  ]
}