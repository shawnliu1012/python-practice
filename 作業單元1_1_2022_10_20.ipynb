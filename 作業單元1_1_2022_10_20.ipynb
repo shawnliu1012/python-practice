{
  "nbformat": 4,
  "nbformat_minor": 0,
  "metadata": {
    "colab": {
      "provenance": [],
      "collapsed_sections": [],
      "include_colab_link": true
    },
    "kernelspec": {
      "name": "python3",
      "display_name": "Python 3"
    },
    "language_info": {
      "name": "python"
    }
  },
  "cells": [
    {
      "cell_type": "markdown",
      "metadata": {
        "id": "view-in-github",
        "colab_type": "text"
      },
      "source": [
        "<a href=\"https://colab.research.google.com/github/shawnliu1012/python-practice/blob/main/%E4%BD%9C%E6%A5%AD%E5%96%AE%E5%85%831_1_2022_10_20.ipynb\" target=\"_parent\"><img src=\"https://colab.research.google.com/assets/colab-badge.svg\" alt=\"Open In Colab\"/></a>"
      ]
    },
    {
      "cell_type": "code",
      "execution_count": null,
      "metadata": {
        "colab": {
          "base_uri": "https://localhost:8080/"
        },
        "id": "Hrx30LlLvq4A",
        "outputId": "39904389-432f-4249-f472-a63ff6e1626b"
      },
      "outputs": [
        {
          "output_type": "stream",
          "name": "stdout",
          "text": [
            "秦時明月漢時關\n",
            "萬里長征人未還\n",
            "但使龍城飛將在\n",
            "不教胡馬度陰山\n"
          ]
        }
      ],
      "source": [
        "print(\"秦時明月漢時關\")\n",
        "print(\"萬里長征人未還\")\n",
        "print(\"但使龍城飛將在\")\n",
        "print(\"不教胡馬度陰山\")\n"
      ]
    }
  ]
}