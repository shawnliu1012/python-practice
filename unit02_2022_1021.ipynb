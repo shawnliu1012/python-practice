{
  "nbformat": 4,
  "nbformat_minor": 0,
  "metadata": {
    "colab": {
      "provenance": [],
      "collapsed_sections": [],
      "include_colab_link": true
    },
    "kernelspec": {
      "name": "python3",
      "display_name": "Python 3"
    },
    "language_info": {
      "name": "python"
    }
  },
  "cells": [
    {
      "cell_type": "markdown",
      "metadata": {
        "id": "view-in-github",
        "colab_type": "text"
      },
      "source": [
        "<a href=\"https://colab.research.google.com/github/shawnliu1012/python-practice/blob/main/unit02_2022_1021.ipynb\" target=\"_parent\"><img src=\"https://colab.research.google.com/assets/colab-badge.svg\" alt=\"Open In Colab\"/></a>"
      ]
    },
    {
      "cell_type": "markdown",
      "source": [
        "## Q1:編寫一個程式碼，打印用戶名中的字符數\n",
        "### 要求輸入用戶的名字"
      ],
      "metadata": {
        "id": "nkR7ANUqQij4"
      }
    },
    {
      "cell_type": "code",
      "source": [
        "name=input(\"請輸入姓名\")"
      ],
      "metadata": {
        "id": "egwhqsyUQ8aS",
        "colab": {
          "base_uri": "https://localhost:8080/"
        },
        "outputId": "adf77b6d-dc1f-4ae9-a588-7aa2d7e40099"
      },
      "execution_count": 16,
      "outputs": [
        {
          "name": "stdout",
          "output_type": "stream",
          "text": [
            "請輸入姓名劉一璇\n"
          ]
        }
      ]
    },
    {
      "cell_type": "markdown",
      "source": [
        "###打印字符串字數\n",
        ">使用len()函數取得自串長度.  \n"
      ],
      "metadata": {
        "id": "zNTmfd2h52wc"
      }
    },
    {
      "cell_type": "code",
      "source": [
        "print(len(name))"
      ],
      "metadata": {
        "colab": {
          "base_uri": "https://localhost:8080/"
        },
        "id": "CRKHHow86C4O",
        "outputId": "181d464f-9bb4-47d5-9eee-4d1c62fc6823"
      },
      "execution_count": 17,
      "outputs": [
        {
          "output_type": "stream",
          "name": "stdout",
          "text": [
            "3\n"
          ]
        }
      ]
    },
    {
      "cell_type": "markdown",
      "source": [
        "##### 參考資料\n",
        "[文字與字串 string](https://steam.oxxostudio.tw/category/python/basic/string.html)"
      ],
      "metadata": {
        "id": "lhAbs2fU8Hy2"
      }
    },
    {
      "cell_type": "markdown",
      "source": [
        "# Q2:編寫一個程式碼，置換（Swap）儲存在記憶體整數 a 和 b 中的內容值。\n",
        "### 要求輸入2個變數、a和b"
      ],
      "metadata": {
        "id": "DklAi2ZKIngY"
      }
    },
    {
      "cell_type": "code",
      "source": [
        "a=input(\"請問a的數值為何?\\n\")\n"
      ],
      "metadata": {
        "id": "oImTDqaeKpw3",
        "colab": {
          "base_uri": "https://localhost:8080/"
        },
        "outputId": "fed43f6a-29b7-48e9-c7b3-2ce9a1a9750e"
      },
      "execution_count": 12,
      "outputs": [
        {
          "name": "stdout",
          "output_type": "stream",
          "text": [
            "請問a的數值為何?\n",
            "3\n"
          ]
        }
      ]
    },
    {
      "cell_type": "code",
      "source": [
        "b=input(\"請問b的數值為何?\\n\")"
      ],
      "metadata": {
        "colab": {
          "base_uri": "https://localhost:8080/"
        },
        "id": "Xm6QBoXTNAqA",
        "outputId": "b4b54d93-783f-484f-af41-b61ae49fde62"
      },
      "execution_count": 13,
      "outputs": [
        {
          "name": "stdout",
          "output_type": "stream",
          "text": [
            "請問b的數值為何?\n",
            "6\n"
          ]
        }
      ]
    },
    {
      "cell_type": "markdown",
      "source": [
        "### 置換演算法"
      ],
      "metadata": {
        "id": "Cz2446J0N3nY"
      }
    },
    {
      "cell_type": "code",
      "source": [
        "x=a\n",
        "a=b\n",
        "b=x\n"
      ],
      "metadata": {
        "id": "wCMruVeMN--9"
      },
      "execution_count": 14,
      "outputs": []
    },
    {
      "cell_type": "markdown",
      "source": [
        "### 輸出變數a和b的數值"
      ],
      "metadata": {
        "id": "ZgfPC7MaOfxG"
      }
    },
    {
      "cell_type": "code",
      "execution_count": 15,
      "metadata": {
        "id": "vdJP-0-HV7mz",
        "colab": {
          "base_uri": "https://localhost:8080/"
        },
        "outputId": "1cf39d4e-9d6f-45a9-8c37-b9e27b04aa6d"
      },
      "outputs": [
        {
          "output_type": "stream",
          "name": "stdout",
          "text": [
            "a=6\n",
            "b=3\n"
          ]
        }
      ],
      "source": [
        "print(f\"a={a}\")\n",
        "print(f\"b={b}\")\n"
      ]
    }
  ]
}